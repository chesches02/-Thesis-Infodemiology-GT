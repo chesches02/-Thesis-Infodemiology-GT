{
 "cells": [
  {
   "cell_type": "code",
   "execution_count": 3,
   "metadata": {},
   "outputs": [],
   "source": [
    "import pandas as pd\n",
    "import numpy as np\n",
    "import os"
   ]
  },
  {
   "cell_type": "code",
   "execution_count": 27,
   "metadata": {},
   "outputs": [],
   "source": [
    "def calculate_and_save_adjacency_matrices(end_dates, data_dir = './data/processed/correlation matrix', thresholds = [0.5,0.4,0.6], is_srd = False):\n",
    "    for threshold in thresholds:\n",
    "        adj_mat_subfolder = f\"threshold-{threshold}\"\n",
    "        adj_mat_path = f'{data_dir}/adjacency_matrices/{adj_mat_subfolder}'\n",
    "        cor_mat_path = f'{data_dir}'\n",
    "\n",
    "        if not os.path.exists(adj_mat_path):\n",
    "            os.makedirs(adj_mat_path, exist_ok=True)\n",
    "\n",
    "        for end_date in end_dates:\n",
    "            corr_df = pd.read_csv(f'{cor_mat_path}/{end_date}.csv', index_col=0)\n",
    "            \n",
    "            # Convert all columns (except index) to numeric, errors='coerce' will convert non-numeric values to NaN\n",
    "            corr_df = corr_df.apply(pd.to_numeric, errors='coerce')\n",
    "            \n",
    "            # Replace NaN with 0 to avoid comparison issues\n",
    "\n",
    "            corr_df = corr_df.fillna(0)\n",
    "\n",
    "            adjacency_matrix = np.where(corr_df.values >= threshold, 1, 0)\n",
    "\n",
    "            corr_df.iloc[:, :] = adjacency_matrix\n",
    "            \n",
    "            corr_df.to_csv(f'./data/processed/adjacency_matrices/threshold-{threshold}/{end_date}.csv')\n",
    "            corr_df.to_pickle(f'./data/processed/adjacency_matrices/threshold-{threshold}/{end_date}.pkl')\n"
   ]
  },
  {
   "attachments": {},
   "cell_type": "markdown",
   "metadata": {},
   "source": [
    "# For untreated network"
   ]
  },
  {
   "cell_type": "code",
   "execution_count": 24,
   "metadata": {},
   "outputs": [
    {
     "data": {
      "text/plain": [
       "336"
      ]
     },
     "execution_count": 24,
     "metadata": {},
     "output_type": "execute_result"
    }
   ],
   "source": [
    "gt_df = pd.read_csv('./data/processed/gt.csv', parse_dates=['date'])\n",
    "dates = gt_df['date'].dt.date\n",
    "del gt_df\n",
    "\n",
    "window_width = 30\n",
    "\n",
    "selection_index_array = [(index, index + window_width) for index in range(len(dates) - window_width)]\n",
    "end_dates = [dates[index] for (_, index) in selection_index_array]\n",
    "len(end_dates)"
   ]
  },
  {
   "cell_type": "code",
   "execution_count": 28,
   "metadata": {},
   "outputs": [],
   "source": [
    "calculate_and_save_adjacency_matrices(end_dates=end_dates)"
   ]
  },
  {
   "attachments": {},
   "cell_type": "markdown",
   "metadata": {},
   "source": [
    "# For treated (SRD) network"
   ]
  },
  {
   "cell_type": "code",
   "execution_count": 21,
   "metadata": {},
   "outputs": [
    {
     "data": {
      "text/plain": [
       "335"
      ]
     },
     "execution_count": 21,
     "metadata": {},
     "output_type": "execute_result"
    }
   ],
   "source": [
    "srd_df = pd.read_pickle('./data/processed/[03]srd_out/srd_out.pkl')\n",
    "dates = srd_df['date'].values\n",
    "del srd_df\n",
    "\n",
    "window_width = 30\n",
    "\n",
    "selection_index_array = [(index, index + window_width) for index in range(len(dates) - window_width)]\n",
    "end_dates = [dates[index] for (_, index) in selection_index_array]\n",
    "len(end_dates)"
   ]
  },
  {
   "cell_type": "code",
   "execution_count": 23,
   "metadata": {},
   "outputs": [],
   "source": [
    "calculate_and_save_adjacency_matrices(end_dates=end_dates, is_srd = True)"
   ]
  }
 ],
 "metadata": {
  "kernelspec": {
   "display_name": "Python 3.9.12 ('network')",
   "language": "python",
   "name": "python3"
  },
  "language_info": {
   "codemirror_mode": {
    "name": "ipython",
    "version": 3
   },
   "file_extension": ".py",
   "mimetype": "text/x-python",
   "name": "python",
   "nbconvert_exporter": "python",
   "pygments_lexer": "ipython3",
   "version": "3.11.0"
  },
  "orig_nbformat": 4,
  "vscode": {
   "interpreter": {
    "hash": "78e082af443e87a1620ec82c2fce242a18414551eac914730d5b559982cbecfa"
   }
  }
 },
 "nbformat": 4,
 "nbformat_minor": 2
}
