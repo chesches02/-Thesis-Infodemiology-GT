{
 "cells": [
  {
   "cell_type": "code",
   "execution_count": 21,
   "metadata": {},
   "outputs": [],
   "source": [
    "import pandas as pd\n",
    "import numpy as np"
   ]
  },
  {
   "attachments": {},
   "cell_type": "markdown",
   "metadata": {},
   "source": [
    "# Original Dataframe\n",
    "This section of the code segments the full set of MSVs matrix into multiple shorter MSVs matrices, and then calculate the correlation matrices."
   ]
  },
  {
   "cell_type": "code",
   "execution_count": 22,
   "metadata": {},
   "outputs": [],
   "source": [
    "gt_df = pd.read_csv('./data/processed/gt.csv', parse_dates=['date'])\n",
    "dates = gt_df['date'].dt.date\n",
    "window_width = 30"
   ]
  },
  {
   "cell_type": "code",
   "execution_count": 23,
   "metadata": {},
   "outputs": [],
   "source": [
    "selection_index_array = [(index, index + window_width) for index in range(len(dates) - window_width)]\n",
    "end_dates = [dates[index] for (_, index) in selection_index_array]"
   ]
  },
  {
   "cell_type": "code",
   "execution_count": 29,
   "metadata": {},
   "outputs": [],
   "source": [
    "for (start_index, end_index) in selection_index_array:\n",
    "    end_date = dates[end_index]\n",
    "    partial_df = gt_df.iloc[start_index:end_index, 1:]\n",
    "    correlation_df = partial_df.corr()\n",
    "    # Replace all 0 values with 1\n",
    "\n",
    "\n",
    "    # Remove diagonial (self-looped edges)\n",
    "    correlation_df.iloc[:, :] = correlation_df.values - np.identity(correlation_df.shape[0])\n",
    "\n",
    "    # Export to .csv for human inspection\n",
    "    # correlation_df.to_csv(f'./../../data/processed/correlation_matrices/{end_date}.csv')\n",
    "# Replace diagonal values with 1.0\n",
    "    np.fill_diagonal(correlation_df.values, 1.0)\n",
    "    # Export to .pkl for further processing\n",
    "    correlation_df.to_csv(f'./EDA/correlation_matrix_csv/{end_date}_ones.csv')\n"
   ]
  },
  {
   "attachments": {},
   "cell_type": "markdown",
   "metadata": {},
   "source": [
    "# Square-root-differenced Dataframe\n",
    "We repeat the same procedure for the Square-root differenced dataframe."
   ]
  },
  {
   "cell_type": "code",
   "execution_count": 25,
   "metadata": {},
   "outputs": [],
   "source": [
    "srd_df = pd.read_pickle('./srd_out.pkl')\n",
    "dates = srd_df['date'].values \n",
    "window_width = 30"
   ]
  },
  {
   "cell_type": "code",
   "execution_count": 26,
   "metadata": {},
   "outputs": [
    {
     "name": "stdout",
     "output_type": "stream",
     "text": [
      "[(0, 30), (1, 31), (2, 32), (3, 33), (4, 34), (5, 35), (6, 36), (7, 37), (8, 38), (9, 39), (10, 40), (11, 41), (12, 42), (13, 43), (14, 44), (15, 45), (16, 46), (17, 47), (18, 48), (19, 49), (20, 50), (21, 51), (22, 52), (23, 53), (24, 54), (25, 55), (26, 56), (27, 57), (28, 58), (29, 59), (30, 60), (31, 61), (32, 62), (33, 63), (34, 64), (35, 65), (36, 66), (37, 67), (38, 68), (39, 69), (40, 70), (41, 71), (42, 72), (43, 73), (44, 74), (45, 75), (46, 76), (47, 77), (48, 78), (49, 79), (50, 80), (51, 81), (52, 82), (53, 83), (54, 84), (55, 85), (56, 86), (57, 87), (58, 88), (59, 89), (60, 90), (61, 91), (62, 92), (63, 93), (64, 94), (65, 95), (66, 96), (67, 97), (68, 98), (69, 99), (70, 100), (71, 101), (72, 102), (73, 103), (74, 104), (75, 105), (76, 106), (77, 107), (78, 108), (79, 109), (80, 110), (81, 111), (82, 112), (83, 113), (84, 114), (85, 115), (86, 116), (87, 117), (88, 118), (89, 119), (90, 120), (91, 121), (92, 122), (93, 123), (94, 124), (95, 125), (96, 126), (97, 127), (98, 128), (99, 129), (100, 130), (101, 131), (102, 132), (103, 133), (104, 134), (105, 135), (106, 136), (107, 137), (108, 138), (109, 139), (110, 140), (111, 141), (112, 142), (113, 143), (114, 144), (115, 145), (116, 146), (117, 147), (118, 148), (119, 149), (120, 150), (121, 151), (122, 152), (123, 153), (124, 154), (125, 155), (126, 156), (127, 157), (128, 158), (129, 159), (130, 160), (131, 161), (132, 162), (133, 163), (134, 164), (135, 165), (136, 166), (137, 167), (138, 168), (139, 169), (140, 170), (141, 171), (142, 172), (143, 173), (144, 174), (145, 175), (146, 176), (147, 177), (148, 178), (149, 179), (150, 180), (151, 181), (152, 182), (153, 183), (154, 184), (155, 185), (156, 186), (157, 187), (158, 188), (159, 189), (160, 190), (161, 191), (162, 192), (163, 193), (164, 194), (165, 195), (166, 196), (167, 197), (168, 198), (169, 199), (170, 200), (171, 201), (172, 202), (173, 203), (174, 204), (175, 205), (176, 206), (177, 207), (178, 208), (179, 209), (180, 210), (181, 211), (182, 212), (183, 213), (184, 214), (185, 215), (186, 216), (187, 217), (188, 218), (189, 219), (190, 220), (191, 221), (192, 222), (193, 223), (194, 224), (195, 225), (196, 226), (197, 227), (198, 228), (199, 229), (200, 230), (201, 231), (202, 232), (203, 233), (204, 234), (205, 235), (206, 236), (207, 237), (208, 238), (209, 239), (210, 240), (211, 241), (212, 242), (213, 243), (214, 244), (215, 245), (216, 246), (217, 247), (218, 248), (219, 249), (220, 250), (221, 251), (222, 252), (223, 253), (224, 254), (225, 255), (226, 256), (227, 257), (228, 258), (229, 259), (230, 260), (231, 261), (232, 262), (233, 263), (234, 264), (235, 265), (236, 266), (237, 267), (238, 268), (239, 269), (240, 270), (241, 271), (242, 272), (243, 273), (244, 274), (245, 275), (246, 276), (247, 277), (248, 278), (249, 279), (250, 280), (251, 281), (252, 282), (253, 283), (254, 284), (255, 285), (256, 286), (257, 287), (258, 288), (259, 289), (260, 290), (261, 291), (262, 292), (263, 293), (264, 294), (265, 295), (266, 296), (267, 297), (268, 298), (269, 299), (270, 300), (271, 301), (272, 302), (273, 303), (274, 304), (275, 305), (276, 306), (277, 307), (278, 308), (279, 309), (280, 310), (281, 311), (282, 312), (283, 313), (284, 314), (285, 315), (286, 316), (287, 317), (288, 318), (289, 319), (290, 320), (291, 321), (292, 322), (293, 323), (294, 324), (295, 325), (296, 326), (297, 327), (298, 328), (299, 329), (300, 330), (301, 331), (302, 332), (303, 333), (304, 334), (305, 335), (306, 336), (307, 337), (308, 338), (309, 339), (310, 340), (311, 341), (312, 342), (313, 343), (314, 344), (315, 345), (316, 346), (317, 347), (318, 348), (319, 349), (320, 350), (321, 351), (322, 352), (323, 353), (324, 354), (325, 355), (326, 356), (327, 357), (328, 358), (329, 359), (330, 360), (331, 361), (332, 362), (333, 363), (334, 364)]\n"
     ]
    }
   ],
   "source": [
    "selection_index_array = [(index, index + window_width) for index in range(len(dates) - window_width)]\n",
    "end_dates = [dates[index] for (_, index) in selection_index_array]\n",
    "len(end_dates)\n",
    "print(selection_index_array)"
   ]
  },
  {
   "cell_type": "code",
   "execution_count": 28,
   "metadata": {},
   "outputs": [],
   "source": [
    "for (start_index, end_index) in selection_index_array:\n",
    "    end_date = dates[end_index]\n",
    "    partial_df = srd_df.iloc[start_index:end_index, 1:]\n",
    "    correlation_df = partial_df.corr()\n",
    "\n",
    "    # Fill \"0\" MSV with correlation \"0\"\n",
    "\n",
    "    # Remove diagonial (self-looped edges)\n",
    "    correlation_df.iloc[:, :] = correlation_df.values - np.identity(correlation_df.shape[0])\n",
    "    \n",
    "    # Export to .csv for human inspection\n",
    "    # correlation_df.to_csv(f'./../../data/processed/correlation_matrices-srd/{end_date}.csv')\n",
    "# Replace diagonal values with 1.0\n",
    "    np.fill_diagonal(correlation_df.values, 1.0)\n",
    "    # Export to .pkl for further processing\n",
    "    correlation_df.to_csv(f'./EDA/correlation_matrix_srd_csv/{end_date}_ones.csv')"
   ]
  }
 ],
 "metadata": {
  "kernelspec": {
   "display_name": "Python 3.9.12 ('network')",
   "language": "python",
   "name": "python3"
  },
  "language_info": {
   "codemirror_mode": {
    "name": "ipython",
    "version": 3
   },
   "file_extension": ".py",
   "mimetype": "text/x-python",
   "name": "python",
   "nbconvert_exporter": "python",
   "pygments_lexer": "ipython3",
   "version": "3.11.0"
  },
  "orig_nbformat": 4,
  "vscode": {
   "interpreter": {
    "hash": "78e082af443e87a1620ec82c2fce242a18414551eac914730d5b559982cbecfa"
   }
  }
 },
 "nbformat": 4,
 "nbformat_minor": 2
}
