{
 "cells": [
  {
   "cell_type": "code",
   "execution_count": null,
   "metadata": {},
   "outputs": [],
   "source": [
    "import pandas as pd\n",
    "import matplotlib.pyplot as plt\n",
    "from sklearn.manifold import MDS\n",
    "from sklearn.preprocessing import StandardScaler"
   ]
  },
  {
   "cell_type": "code",
   "execution_count": null,
   "metadata": {},
   "outputs": [],
   "source": [
    "\n",
    "\n",
    "# Read the CSV file\n",
    "df = pd.read_csv('../netstats/processed/d_corr-netstats-threshold-0.4.csv', parse_dates=['date'])\n",
    "\n",
    "# Extract density and global_cc columns\n",
    "X = df[['density', 'global_cc']].values\n",
    "\n",
    "# Standardize the features\n",
    "scaler = StandardScaler()\n",
    "X_scaled = scaler.fit_transform(X)\n",
    "\n",
    "# Perform MDS\n",
    "mds = MDS(n_components=2, random_state=42)\n",
    "X_mds = mds.fit_transform(X_scaled)\n",
    "\n",
    "# Create the plot\n",
    "plt.figure(figsize=(12, 8))\n",
    "plt.scatter(X_mds[:, 0], X_mds[:, 1], alpha=0.6)\n",
    "\n",
    "# Add labels for each point\n",
    "for i, date in enumerate(df['date']):\n",
    "    plt.annotate(date.strftime('%Y-%m-%d'), (X_mds[i, 0], X_mds[i, 1]), fontsize=8, alpha=0.7)\n",
    "\n",
    "plt.title('MDS of Density vs Global Clustering Coefficient')\n",
    "plt.xlabel('MDS Dimension 1')\n",
    "plt.ylabel('MDS Dimension 2')\n",
    "plt.tight_layout()\n",
    "plt.show()\n",
    "\n",
    "# Find pairs that are close together\n",
    "def find_close_pairs(X_mds, df, threshold=0.5):\n",
    "    close_pairs = []\n",
    "    for i in range(len(X_mds)):\n",
    "        for j in range(i+1, len(X_mds)):\n",
    "            distance = np.linalg.norm(X_mds[i] - X_mds[j])\n",
    "            if distance < threshold:\n",
    "                close_pairs.append((df['date'].iloc[i].strftime('%Y-%m-%d'), df['date'].iloc[j].strftime('%Y-%m-%d')))\n",
    "    return close_pairs\n",
    "\n",
    "close_pairs = find_close_pairs(X_mds, df)\n",
    "print(\"Pairs of dates with similar density and global_cc values:\")\n",
    "for pair in close_pairs:\n",
    "    print(f\"{pair[0]} and {pair[1]}\")"
   ]
  }
 ],
 "metadata": {
  "language_info": {
   "name": "python"
  }
 },
 "nbformat": 4,
 "nbformat_minor": 2
}
