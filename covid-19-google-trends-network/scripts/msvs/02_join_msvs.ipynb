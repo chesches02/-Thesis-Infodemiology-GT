{
 "cells": [
  {
   "cell_type": "code",
   "execution_count": 1,
   "metadata": {},
   "outputs": [],
   "source": [
    "import sys\n",
    "if \"..\" not in sys.path:\n",
    "    sys.path.insert(0, \"..\")"
   ]
  },
  {
   "cell_type": "code",
   "execution_count": 2,
   "metadata": {},
   "outputs": [
    {
     "name": "stdout",
     "output_type": "stream",
     "text": [
      "['flu', 'cough', 'fever', 'headache', 'lagnat', 'rashes', 'sipon', 'ubo', 'ecq', 'face-shield', 'Frontliners', 'masks', 'Quarantine', 'social-distancing', 'work-from-home']\n"
     ]
    }
   ],
   "source": [
    "import os\n",
    "from datetime import date, timedelta\n",
    "import pandas as pd\n",
    "from information.terms_info import tags\n",
    "\n",
    "pd.set_option('display.max_columns', None)\n",
    "print(f'{tags}')"
   ]
  },
  {
   "cell_type": "code",
   "execution_count": 3,
   "metadata": {},
   "outputs": [
    {
     "name": "stdout",
     "output_type": "stream",
     "text": [
      "[i] tag='flu' df.shape=(0, 0) new_df.shape=(366, 2)\n",
      "[i] tag='cough' df.shape=(366, 2) new_df.shape=(366, 2)\n",
      "[i] tag='fever' df.shape=(366, 3) new_df.shape=(366, 2)\n",
      "[i] tag='headache' df.shape=(366, 4) new_df.shape=(366, 2)\n",
      "[i] tag='lagnat' df.shape=(366, 5) new_df.shape=(366, 2)\n",
      "[i] tag='rashes' df.shape=(366, 6) new_df.shape=(366, 2)\n",
      "[i] tag='sipon' df.shape=(366, 7) new_df.shape=(366, 2)\n",
      "[i] tag='ubo' df.shape=(366, 8) new_df.shape=(366, 2)\n",
      "[i] tag='ecq' df.shape=(366, 9) new_df.shape=(366, 2)\n",
      "[i] tag='face-shield' df.shape=(366, 10) new_df.shape=(366, 2)\n",
      "[i] tag='Frontliners' df.shape=(366, 11) new_df.shape=(366, 2)\n",
      "[i] tag='masks' df.shape=(366, 12) new_df.shape=(366, 2)\n",
      "[i] tag='Quarantine' df.shape=(366, 13) new_df.shape=(366, 2)\n",
      "[i] tag='social-distancing' df.shape=(366, 14) new_df.shape=(366, 2)\n",
      "[i] tag='work-from-home' df.shape=(366, 15) new_df.shape=(366, 2)\n"
     ]
    }
   ],
   "source": [
    "df = pd.DataFrame()\n",
    "\n",
    "for tag in tags:\n",
    "    normalize_tag = tag.replace('/', '.')\n",
    "    filename = f\"./../msvs/processed/{normalize_tag}.csv\"\n",
    "    new_df = pd.read_csv(filename, parse_dates=['date'])\n",
    "    new_df.rename(columns={'index': tag}, inplace=True)\n",
    "\n",
    "    print('[i]', f\"{tag=}\", f\"{df.shape=}\", f\"{new_df.shape=}\")\n",
    "\n",
    "    if len(df) == 0:\n",
    "        df = new_df.copy()\n",
    "        continue\n",
    "    else:\n",
    "        df = pd.merge(\n",
    "            df, new_df,\n",
    "            how=\"outer\",\n",
    "            left_on=\"date\", right_on=\"date\",\n",
    "            suffixes=(\"\", \"\"))\n",
    "\n",
    "df.fillna(0, inplace=True)\n",
    "\n",
    "df.to_pickle('./../msvs/processed/msvs/gt.pkl')\n",
    "df.to_csv('./../msvs/processed/msvs/gt.csv', index=False)"
   ]
  }
 ],
 "metadata": {
  "kernelspec": {
   "display_name": "network",
   "language": "python",
   "name": "python3"
  },
  "language_info": {
   "codemirror_mode": {
    "name": "ipython",
    "version": 3
   },
   "file_extension": ".py",
   "mimetype": "text/x-python",
   "name": "python",
   "nbconvert_exporter": "python",
   "pygments_lexer": "ipython3",
   "version": "3.11.0"
  },
  "orig_nbformat": 4
 },
 "nbformat": 4,
 "nbformat_minor": 2
}
